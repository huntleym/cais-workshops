{
 "cells": [
  {
   "cell_type": "markdown",
   "metadata": {},
   "source": [
    "# Coding Portion: Fashion Item Classification\n",
    "\n",
    "* Dataset used: **Fashion MNIST** (28 x 28 grayscale images of fashion items)\n",
    "* Dataset size: 60,000 training samples, 10,000 test samples\n",
    "* Dataset source: https://github.com/zalandoresearch/fashion-mnist\n",
    "\n",
    "#### Classification Labels:\n",
    "Label | Description\n",
    ":--- | ---\n",
    "0 | T-shirt/top\n",
    "1 | Trouser\n",
    "2 | Pullover\n",
    "3 | Dress\n",
    "4 | Coat\n",
    "5 | Sandal\n",
    "6 | Shirt\n",
    "7 | Sneaker\n",
    "8 | Bag\n",
    "9 | Ankle boot"
   ]
  },
  {
   "cell_type": "markdown",
   "metadata": {},
   "source": [
    "### Step 1: Load in the Data"
   ]
  },
  {
   "cell_type": "code",
   "execution_count": 1,
   "metadata": {
    "collapsed": true
   },
   "outputs": [],
   "source": [
    "# Import Fashion-MNIST dataset from 'fashion' folder\n",
    "\n",
    "from fashion import mnist_reader\n",
    "X_train, y_train = mnist_reader.load_mnist('fashion', kind='train')\n",
    "X_test, y_test = mnist_reader.load_mnist('fashion', kind='t10k')"
   ]
  },
  {
   "cell_type": "code",
   "execution_count": 2,
   "metadata": {},
   "outputs": [
    {
     "name": "stdout",
     "output_type": "stream",
     "text": [
      "Inputs shape is (60000, 784)\n",
      "Input type is <class 'numpy.ndarray'>\n",
      "Labels:\n",
      "[9 0 0 ..., 3 0 5]\n",
      "Labels shape is(60000,)\n",
      "Labels type is <class 'numpy.ndarray'>\n"
     ]
    }
   ],
   "source": [
    "# Data exploration\n",
    "\n",
    "print(\"Inputs shape is \" + str(X_train.shape)) # 60,000 flattened image vectors (784 pixels long)\n",
    "print(\"Input type is \" + str(type(X_train)))\n",
    "print(\"Labels:\")\n",
    "print(y_train)\n",
    "print(\"Labels shape is\" + str(y_train.shape)) # 60,000 labels\n",
    "print(\"Labels type is \" + str(type(y_train)))"
   ]
  },
  {
   "cell_type": "code",
   "execution_count": 3,
   "metadata": {
    "collapsed": true
   },
   "outputs": [],
   "source": [
    "# Convert numerical label to item description\n",
    "\n",
    "def to_description(label):\n",
    "    if label == 0: return \"T-shirt/top\"\n",
    "    elif label == 1: return \"Trouser\"\n",
    "    elif label == 2: return \"Pullover\"\n",
    "    elif label == 3: return \"Dress\"\n",
    "    elif label == 4: return \"Coat\"\n",
    "    elif label == 5: return \"Sandal\"\n",
    "    elif label == 6: return \"Shirt\"\n",
    "    elif label == 7: return \"Sneaker\"\n",
    "    elif label == 8: return \"Bag\"\n",
    "    elif label == 9: return \"Ankle boot\"\n",
    "    else: return \"Label not found\""
   ]
  },
  {
   "cell_type": "code",
   "execution_count": 4,
   "metadata": {},
   "outputs": [
    {
     "name": "stdout",
     "output_type": "stream",
     "text": [
      "Label:  9\n",
      "Description:  Ankle boot\n"
     ]
    },
    {
     "data": {
      "image/png": "[encoded data removed]",
      "text/plain": [
       "<matplotlib.figure.Figure at 0x108f46c88>"
      ]
     },
     "metadata": {},
     "output_type": "display_data"
    }
   ],
   "source": [
    "# Visualize the training examples\n",
    "\n",
    "import matplotlib.pyplot as plt\n",
    "import numpy as np\n",
    "\n",
    "def visualize_sample(sample_num):\n",
    "    flattened_vector = X_train[sample_num] # retrieve flattened vector\n",
    "    image_2d = np.reshape(flattened_vector, (28, 28)) # reshape to 28 x 28 grayscale image array\n",
    "    plt.imshow(image_2d, cmap = plt.get_cmap('gray')) # feed image into matplotlib\n",
    "    print(\"Label: \", y_train[sample_num]) # print actual label\n",
    "    print(\"Description: \", to_description(y_train[sample_num])) # print description\n",
    "    plt.show()\n",
    "    \n",
    "    \n",
    "visualize_sample(0)"
   ]
  },
  {
   "cell_type": "markdown",
   "metadata": {},
   "source": [
    "### Step 2: Data Pre-Processing\n",
    "1. Normalize the feature vectors/pixel values\n",
    "2. Categorize the outputs"
   ]
  },
  {
   "cell_type": "code",
   "execution_count": 6,
   "metadata": {
    "collapsed": true
   },
   "outputs": [],
   "source": [
    "# Normalize the X_train and X_test dataset pixel values to between 0-1\n",
    "\n",
    "# TODO: fill this in\n",
    "    # Hint: maximum pixel value is still 255\n",
    "X_train = X_train / 255.\n",
    "X_test = X_test / 255.\n"
   ]
  },
  {
   "cell_type": "code",
   "execution_count": 15,
   "metadata": {},
   "outputs": [
    {
     "name": "stdout",
     "output_type": "stream",
     "text": [
      "[[ 0.  0.  0.  0.  0.  0.  0.  0.  0.  1.]\n",
      " [ 1.  0.  0.  0.  0.  0.  0.  0.  0.  0.]\n",
      " [ 1.  0.  0.  0.  0.  0.  0.  0.  0.  0.]\n",
      " [ 0.  0.  0.  1.  0.  0.  0.  0.  0.  0.]\n",
      " [ 1.  0.  0.  0.  0.  0.  0.  0.  0.  0.]]\n",
      "[[ 0.  0.  0.  0.  0.  0.  0.  0.  0.  1.]\n",
      " [ 0.  0.  1.  0.  0.  0.  0.  0.  0.  0.]\n",
      " [ 0.  1.  0.  0.  0.  0.  0.  0.  0.  0.]\n",
      " [ 0.  1.  0.  0.  0.  0.  0.  0.  0.  0.]\n",
      " [ 0.  0.  0.  0.  0.  0.  1.  0.  0.  0.]]\n"
     ]
    }
   ],
   "source": [
    "import keras\n",
    "\n",
    "# TODO: Use Keras to categorize the outputs (\"one-hot\" vectors)\n",
    "    # Use variable names: y_train_categorical, y_test_categorical\n",
    "    # hint: use the to_categorical() keras function to do this for you\n",
    "    \n",
    "# Use Keras to categorize the outputs (\"one-hot\" vectors)\n",
    "y_train_categorical = keras.utils.to_categorical(y_train, num_classes=10)\n",
    "y_test_categorical = keras.utils.to_categorical(y_test, num_classes=10)\n",
    "\n",
    "# let's see result of categorizing the outputs\n",
    "print(y_train_categorical[:5]) # print out first 5 training label vectors\n",
    "# let's see result of categorizing the outputs\n",
    "print(y_test_categorical[:5])"
   ]
  },
  {
   "cell_type": "markdown",
   "metadata": {},
   "source": [
    "### Step 3: Create and Compile Neural Network Model"
   ]
  },
  {
   "cell_type": "code",
   "execution_count": 16,
   "metadata": {
    "collapsed": true
   },
   "outputs": [],
   "source": [
    "from keras.layers import Dense, Activation\n",
    "from keras.models import Sequential\n",
    "\n",
    "model = Sequential()\n",
    "\n",
    "# TODO: fill this in\n",
    "# Feel free to experiment with different number of layers, number of neurons, activation functions, etc.\n",
    "    # Activation functions: https://keras.io/activations/\n",
    "    # Declaring Keras layers: https://keras.io/layers/core/\n",
    "    \n",
    "### Add 1st layer here. Remember that the input_dimension should match up with the input vector dimension!\n",
    "model.add(Dense(units=64, input_dim=784, activation='sigmoid'))\n",
    "\n",
    "### Add 2nd layer here.\n",
    "model.add(Dense(units=32, activation='sigmoid'))\n",
    "\n",
    "# Add final layer here. Make sure the last layer matches up the output vector dimension\n",
    "    # Hint: use softmax again to output classification probabilities\n",
    "model.add(Dense(units=10, activation='softmax'))\n"
   ]
  },
  {
   "cell_type": "code",
   "execution_count": 17,
   "metadata": {
    "collapsed": true
   },
   "outputs": [],
   "source": [
    "# TODO: Compile model\n",
    "    # Loss: categorical cross-entropy\n",
    "    # Optimizer: stochastic gradient descent\n",
    "        # Or: experiment with other optimizers? https://keras.io/optimizers/\n",
    "    # Metrics: accuracy\n",
    "model.compile(loss='categorical_crossentropy', optimizer='sgd', metrics=['accuracy'])"
   ]
  },
  {
   "cell_type": "code",
   "execution_count": 18,
   "metadata": {},
   "outputs": [
    {
     "name": "stdout",
     "output_type": "stream",
     "text": [
      "_________________________________________________________________\n",
      "Layer (type)                 Output Shape              Param #   \n",
      "=================================================================\n",
      "dense_4 (Dense)              (None, 64)                50240     \n",
      "_________________________________________________________________\n",
      "dense_5 (Dense)              (None, 32)                2080      \n",
      "_________________________________________________________________\n",
      "dense_6 (Dense)              (None, 10)                330       \n",
      "=================================================================\n",
      "Total params: 52,650\n",
      "Trainable params: 52,650\n",
      "Non-trainable params: 0\n",
      "_________________________________________________________________\n"
     ]
    }
   ],
   "source": [
    "model.summary()"
   ]
  },
  {
   "cell_type": "code",
   "execution_count": 19,
   "metadata": {},
   "outputs": [],
   "source": [
    "# Import relevant libraries\n",
    "from keras_tqdm import TQDMNotebookCallback # TQDM: progress bars\n",
    "from keras.callbacks import TensorBoard # Tensorboard: training plots\n",
    "    \n",
    "# Clear any existing Tensorboard logs\n",
    "import shutil\n",
    "shutil.rmtree('./logs', ignore_errors=True)\n",
    "\n",
    "# Set up callback links to refer back to during training\n",
    "tensorboard = TensorBoard()\n",
    "callbacks_list = [TQDMNotebookCallback(), tensorboard]"
   ]
  },
  {
   "cell_type": "code",
   "execution_count": 20,
   "metadata": {},
   "outputs": [
    {
     "name": "stdout",
     "output_type": "stream",
     "text": [
      "Epoch 1/10\n",
      "60000/60000 [==============================] - 8s 128us/step - loss: 1.7969 - acc: 0.5004\n",
      "Epoch 2/10\n",
      "60000/60000 [==============================] - 8s 125us/step - loss: 1.0660 - acc: 0.6701\n",
      "Epoch 3/10\n",
      "60000/60000 [==============================] - 8s 128us/step - loss: 0.8181 - acc: 0.7342\n",
      "Epoch 4/10\n",
      "60000/60000 [==============================] - 8s 128us/step - loss: 0.6863 - acc: 0.7611\n",
      "Epoch 5/10\n",
      "60000/60000 [==============================] - 8s 133us/step - loss: 0.6158 - acc: 0.7780\n",
      "Epoch 6/10\n",
      "60000/60000 [==============================] - 8s 129us/step - loss: 0.5710 - acc: 0.7943\n",
      "Epoch 7/10\n",
      "60000/60000 [==============================] - 8s 133us/step - loss: 0.5384 - acc: 0.8079\n",
      "Epoch 8/10\n",
      "60000/60000 [==============================] - 8s 130us/step - loss: 0.5135 - acc: 0.8180\n",
      "Epoch 9/10\n",
      "60000/60000 [==============================] - 8s 134us/step - loss: 0.4937 - acc: 0.8250\n",
      "Epoch 10/10\n",
      "60000/60000 [==============================] - 8s 134us/step - loss: 0.4772 - acc: 0.8311\n"
     ]
    },
    {
     "data": {
      "text/plain": [
       "<keras.callbacks.History at 0x183fb86c88>"
      ]
     },
     "execution_count": 20,
     "metadata": {},
     "output_type": "execute_result"
    }
   ],
   "source": [
    "# TODO: Fit model to training data\n",
    "    # Reserve some fraction of training data as validation data\n",
    "    # Pick number of epochs\n",
    "    # Pick a batch_size\n",
    "    # Pass in relevant callbacks_list from above\n",
    "    \n",
    "model.fit(X_train, y_train_categorical, epochs=10, batch_size=16)\n",
    "    \n",
    "    "
   ]
  },
  {
   "cell_type": "markdown",
   "metadata": {},
   "source": [
    "### Step 4: Evaluate the Model"
   ]
  },
  {
   "cell_type": "code",
   "execution_count": 12,
   "metadata": {},
   "outputs": [
    {
     "name": "stdout",
     "output_type": "stream",
     "text": [
      " 9984/10000 [============================>.] - ETA:  - ETA:  - ETA:  - ETA:  - ETA:  - ETA:  - ETA:  - ETA:  - ETA:  - ETA:  - ETA:  - ETA:  - ETA:  - ETA:  - ETA:  - ETA:  - ETA:  - ETA:  - ETA:  - ETA:  - ETA:  - ETA:  - ETA:  - ETA:  - ETA:  - ETA:  - ETA: 0s[0.41132646365165709, 0.85370000000000001]\n"
     ]
    }
   ],
   "source": [
    "# TODO: Evaluate model on test data\n",
    "\n",
    "# Use model.evaluate()\n",
    "# Also: open up the training logs in Tensorboard to check validation_loss for overfitting\n",
    "loss_and_metrics = model.evaluate(X_test, y_test_categorical, batch_size=128)\n",
    "\n",
    "print(loss_and_metrics)"
   ]
  },
  {
   "cell_type": "code",
   "execution_count": 13,
   "metadata": {
    "collapsed": true
   },
   "outputs": [],
   "source": [
    "# Final predictions testing\n",
    "\n",
    "import numpy as np\n",
    "\n",
    "# Compare actual class to predicted class\n",
    "def visualize_test_sample(test_sample_num):\n",
    "    \n",
    "    # Display actual image & label\n",
    "    flattened_vector = X_test[test_sample_num] # retrieve flattened vector\n",
    "    image_2d = np.reshape(flattened_vector, (28, 28)) # reshape to 28 x 28 grayscale image array\n",
    "    plt.imshow(image_2d, cmap = plt.get_cmap('gray')) # feed image into matplotlib\n",
    "    print(\"Actual Label: \", y_test[test_sample_num]) # print actual label\n",
    "    print(\"Actual Description: \", to_description(y_test[test_sample_num])) # print description\n",
    "    plt.show()\n",
    "    \n",
    "    # Print predicted label\n",
    "    test_sample = np.expand_dims(X_test[test_sample_num], axis=0) # pick out a one-sample \"batch\" to feed into model\n",
    "    predicted_scores = model.predict(test_sample) # outputted probabilities vector\n",
    "    print(\"Outputted scores: \", predicted_scores) # print predicted scores\n",
    "\n",
    "    predicted_class = np.argmax(predicted_scores) # pick the class with highest probability --> final prediction\n",
    "    print(\"Predicted Label: \", predicted_class) # print predicted classification\n",
    "    print(\"Predicted Description: \", to_description(predicted_class)) # print predicted label description"
   ]
  },
  {
   "cell_type": "code",
   "execution_count": 23,
   "metadata": {},
   "outputs": [
    {
     "name": "stdout",
     "output_type": "stream",
     "text": [
      "Actual Label:  2\n",
      "Actual Description:  Pullover\n"
     ]
    },
    {
     "data": {
      "image/png": "[encoded data removed]",
      "text/plain": [
       "<matplotlib.figure.Figure at 0x1c8f0036a20>"
      ]
     },
     "metadata": {},
     "output_type": "display_data"
    },
    {
     "name": "stdout",
     "output_type": "stream",
     "text": [
      "Outputted scores:  [[  9.39180882e-06   5.98789356e-08   9.85479355e-01   4.02573687e-06\n",
      "    5.54180937e-03   6.57241692e-11   8.78896471e-03   2.11042338e-13\n",
      "    1.76473754e-04   7.01200816e-12]]\n",
      "Predicted Label:  2\n",
      "Predicted Description:  Pullover\n"
     ]
    }
   ],
   "source": [
    "visualize_test_sample(1\n",
    "                     )"
   ]
  },
  {
   "cell_type": "code",
   "execution_count": null,
   "metadata": {
    "collapsed": true
   },
   "outputs": [],
   "source": []
  }
 ],
 "metadata": {
  "kernelspec": {
   "display_name": "Python 3",
   "language": "python",
   "name": "python3"
  },
  "language_info": {
   "codemirror_mode": {
    "name": "ipython",
    "version": 3
   },
   "file_extension": ".py",
   "mimetype": "text/x-python",
   "name": "python",
   "nbconvert_exporter": "python",
   "pygments_lexer": "ipython3",
   "version": "3.6.3"
  }
 },
 "nbformat": 4,
 "nbformat_minor": 2
}
